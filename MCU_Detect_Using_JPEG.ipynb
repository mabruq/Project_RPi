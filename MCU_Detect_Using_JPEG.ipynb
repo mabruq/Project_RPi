{
 "metadata": {
  "language_info": {
   "codemirror_mode": {
    "name": "ipython",
    "version": 3
   },
   "file_extension": ".py",
   "mimetype": "text/x-python",
   "name": "python",
   "nbconvert_exporter": "python",
   "pygments_lexer": "ipython3",
   "version": "3.7.3-final"
  },
  "orig_nbformat": 2,
  "kernelspec": {
   "name": "python3",
   "display_name": "Python 3.7.3 32-bit",
   "metadata": {
    "interpreter": {
     "hash": "31f2aee4e71d21fbe5cf8b01ff0e069b9275f58929596ceb00d14d90e3e16cd6"
    }
   }
  }
 },
 "nbformat": 4,
 "nbformat_minor": 2,
 "cells": [
  {
   "source": [
    "from __future__ import absolute_import\n",
    "from __future__ import division\n",
    "from __future__ import print_function\n",
    "\n",
    "import io\n",
    "import time\n",
    "import numpy as np\n",
    "\n",
    "from PIL import Image\n",
    "from tflite_runtime.interpreter import Interpreter\n",
    "\n",
    "print(\"Import Done\")"
   ],
   "cell_type": "code",
   "metadata": {},
   "execution_count": 4,
   "outputs": [
    {
     "output_type": "stream",
     "name": "stdout",
     "text": [
      "Import Done\n"
     ]
    }
   ]
  },
  {
   "cell_type": "code",
   "execution_count": null,
   "metadata": {},
   "outputs": [],
   "source": []
  },
  {
   "cell_type": "code",
   "execution_count": null,
   "metadata": {},
   "outputs": [],
   "source": [
    "path=\"/home/pi/Projects/mcu_labels.txt\""
   ]
  },
  {
   "cell_type": "code",
   "execution_count": 5,
   "metadata": {},
   "outputs": [],
   "source": [
    "def load_labels(path):\n",
    "  with open(path, 'r') as f:\n",
    "    return {i: line.strip() for i, line in enumerate(f.readlines())}"
   ]
  },
  {
   "cell_type": "code",
   "execution_count": 9,
   "metadata": {},
   "outputs": [],
   "source": [
    "def set_input_tensor(interpreter, image):\n",
    "  tensor_index = interpreter.get_input_details()[0]['index']\n",
    "  input_tensor = interpreter.tensor(tensor_index)()[0]\n",
    "  input_tensor[:, :] = image"
   ]
  },
  {
   "cell_type": "code",
   "execution_count": 8,
   "metadata": {},
   "outputs": [],
   "source": [
    "\n",
    "def classify_image(interpreter, image, top_k=1):\n",
    "  \"\"\"Returns a sorted array of classification results.\"\"\"\n",
    "  set_input_tensor(interpreter, image)\n",
    "  interpreter.invoke()\n",
    "  output_details = interpreter.get_output_details()[0]\n",
    "  output = np.squeeze(interpreter.get_tensor(output_details['index']))\n",
    "\n",
    "  # If the model is quantized (uint8 data), then dequantize the results\n",
    "  if output_details['dtype'] == np.uint8:\n",
    "    scale, zero_point = output_details['quantization']\n",
    "    output = scale * (output - zero_point)\n",
    "\n",
    "  ordered = np.argpartition(-output, top_k)\n",
    "  return [(i, output[i]) for i in ordered[:top_k]]\n"
   ]
  },
  {
   "cell_type": "code",
   "execution_count": null,
   "metadata": {},
   "outputs": [],
   "source": [
    "labels = load_labels(args.labels)\n",
    "interpreter = Interpreter(args.model)\n",
    "interpreter.allocate_tensors()\n",
    "_, height, width, _ = interpreter.get_input_details()[0]['shape']\n",
    "\n",
    "\n",
    "image = Image.open(stream).convert('RGB').resize((width, height),\n",
    "                                                         Image.ANTIALIAS)\n",
    "start_time = time.time()\n",
    "results = classify_image(interpreter, image)\n",
    "elapsed_ms = (time.time() - start_time) * 1000\n",
    "label_id, prob = results[0]\n",
    "\n",
    "\n",
    "camera.annotate_text = '%s %.2f\\n%.1fms' % (labels[label_id], prob,\n",
    "                                                    elapsed_ms)\n",
    "\n"
   ]
  }
 ]
}